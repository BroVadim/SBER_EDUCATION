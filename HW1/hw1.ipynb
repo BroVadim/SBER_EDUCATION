{
 "cells": [
  {
   "cell_type": "markdown",
   "metadata": {},
   "source": [
    "# Задание\n",
    "* Собрать информацию о всех строящихся объектах на сайте \"наш.дом.рф\"\n",
    "* Cохранить ее в pandas dataframe\n",
    "* Cохранить pandas dataframe в excel\n",
    "* Cохранить pandas dataframe в pickle\n",
    "* Cохранить pandas dataframe в БД"
   ]
  },
  {
   "cell_type": "code",
   "execution_count": 1,
   "metadata": {
    "pycharm": {
     "name": "#%%\n"
    }
   },
   "outputs": [
    {
     "name": "stderr",
     "output_type": "stream",
     "text": [
      "C:\\Users\\darmorezov\\AppData\\Local\\Programs\\Python\\Python38-32\\lib\\site-packages\\requests\\__init__.py:89: RequestsDependencyWarning: urllib3 (1.26.8) or chardet (3.0.4) doesn't match a supported version!\n",
      "  warnings.warn(\"urllib3 ({}) or chardet ({}) doesn't match a supported \"\n"
     ]
    }
   ],
   "source": [
    "import os\n",
    "import requests\n",
    "import pandas as pd\n",
    "from tqdm import tqdm\n",
    "from sqlalchemy import create_engine"
   ]
  },
  {
   "cell_type": "code",
   "execution_count": 2,
   "metadata": {},
   "outputs": [],
   "source": [
    "def send_request(url):\n",
    "    \"\"\"\n",
    "        Функция необходима для отправки запросов и получения ответов на запросы к сайтам\n",
    "        input:  url - адрес ответ с которого планируется получить\n",
    "        output: response - ответ от адреса в формате json\n",
    "    \"\"\"\n",
    "    try:\n",
    "        response = requests.get(url, timeout=(10, 20) )\n",
    "        if response.status_code != 200:\n",
    "            raise ConnectionError('Возвращен неправильный результат')\n",
    "    except Exception as error:\n",
    "        print(f'При запросе произошла ошибка: {error}')\n",
    "        return None\n",
    "    return response.json()"
   ]
  },
  {
   "cell_type": "code",
   "execution_count": 3,
   "metadata": {},
   "outputs": [],
   "source": [
    "def search_objects_ids(limit=1000, offset=1):\n",
    "    \"\"\"\n",
    "        Функция необходима для поиска id строящихся объектов\n",
    "        input:  limit - количество записей для выгрузки,\n",
    "                offset - с какой записи начинать выгрузку\n",
    "        output: objects_ids - id объектов строящихся зданий\n",
    "    \"\"\"\n",
    "    url = f'https://xn--80az8a.xn--d1aqf.xn--p1ai/%D1%81%D0%B5%D1%80%D0%B2%D0%B8%D1%81%D1%8B/api/kn/object?offset={offset}&limit={limit}&sortField=devId.devShortCleanNm&sortType=asc&objStatus=0' \n",
    "    response = send_request(url)\n",
    "    objects_ids = None\n",
    "    if response:\n",
    "            objects_ids = [item['objId'] for item in response['data']['list']]\n",
    "    return objects_ids"
   ]
  },
  {
   "cell_type": "code",
   "execution_count": 4,
   "metadata": {},
   "outputs": [],
   "source": [
    "def search_object_data(object_id):\n",
    "    \"\"\"\n",
    "        Функция для поиска информации о строящемся объекте по его id\n",
    "        input:  object_id - id объекта для которого производится поиск информации\n",
    "        output: result_df - строка датафрейма, содержащая информацию о строящемся объекте\n",
    "    \"\"\"\n",
    "    url = f'https://xn--80az8a.xn--d1aqf.xn--p1ai/%D1%81%D0%B5%D1%80%D0%B2%D0%B8%D1%81%D1%8B/api/object/{object_id}'\n",
    "    response = send_request(url)\n",
    "    result_df = None\n",
    "    if response:\n",
    "        result_df = pd.json_normalize(response['data'])\n",
    "    return result_df"
   ]
  },
  {
   "cell_type": "code",
   "execution_count": 5,
   "metadata": {},
   "outputs": [],
   "source": [
    "def save_frame_to_database(dataframe, database_name, table_name):\n",
    "    \"\"\"\n",
    "        Функция для записи данных датафрейма в базу данных\n",
    "        input:  dataframe     - фрейм данных pandas,\n",
    "                database_name - название базы данных\n",
    "                table_name    - название таблицы базы данных\n",
    "    \"\"\"\n",
    "    try:\n",
    "        engine = create_engine('sqlite:///{0}.db'.format(database_name),\n",
    "                               echo = True)\n",
    "        sqlite_connection = engine.connect()\n",
    "        dataframe.to_sql(table_name,\n",
    "                         sqlite_connection,\n",
    "                         if_exists = 'replace')\n",
    "        sqlite_connection.commit()\n",
    "        sqlite_connection.close()\n",
    "    except Exception as error:\n",
    "        print(f'Во время работы с базой данных возникла ошибка: {error}')"
   ]
  },
  {
   "cell_type": "code",
   "execution_count": 6,
   "metadata": {},
   "outputs": [],
   "source": [
    "obj_ids = search_objects_ids()"
   ]
  },
  {
   "cell_type": "code",
   "execution_count": 7,
   "metadata": {},
   "outputs": [
    {
     "name": "stderr",
     "output_type": "stream",
     "text": [
      "100%|██████████████████████████████████████████████████████████████████████████████| 1000/1000 [02:41<00:00,  6.18it/s]\n"
     ]
    }
   ],
   "source": [
    "res_df = pd.DataFrame()\n",
    "for obj_id in tqdm(obj_ids):\n",
    "    df = search_object_data(obj_id)\n",
    "    res_df = pd.concat([res_df, df], ignore_index=True, sort=False)"
   ]
  },
  {
   "cell_type": "code",
   "execution_count": 8,
   "metadata": {},
   "outputs": [],
   "source": [
    "res_df.fillna(0)\n",
    "res_df = res_df.applymap(str)"
   ]
  },
  {
   "cell_type": "code",
   "execution_count": null,
   "metadata": {},
   "outputs": [],
   "source": [
    "res_df.head(2)"
   ]
  },
  {
   "cell_type": "code",
   "execution_count": null,
   "metadata": {},
   "outputs": [],
   "source": [
    "save_frame_to_database(res_df, 'PARSER', 'DOMRF')"
   ]
  },
  {
   "cell_type": "code",
   "execution_count": 9,
   "metadata": {},
   "outputs": [],
   "source": [
    "res_df.to_pickle('result_frame.pkl')\n",
    "res_df.to_excel('result_frame.xlsx')"
   ]
  },
  {
   "cell_type": "markdown",
   "metadata": {},
   "source": [
    "# Задание *\n",
    "* Написать скрипт, который скачивает фотографии всех строящихся объектов с сайта \"наш.дом.рф\""
   ]
  },
  {
   "cell_type": "code",
   "execution_count": null,
   "metadata": {},
   "outputs": [],
   "source": [
    "def save_image(url, image_name):\n",
    "    \"\"\"\n",
    "        Функция для сохранения изображения из сети интернет\n",
    "        input:  url - адрес нахождения изображения в сети интернет\n",
    "                image_name - название изображения для сохранения \n",
    "                            (в названии может быть зашит path)\n",
    "    \"\"\"\n",
    "    with open(image_name, 'wb') as file:\n",
    "        p = requests.get(url)\n",
    "        file.write(p.content)"
   ]
  },
  {
   "cell_type": "code",
   "execution_count": null,
   "metadata": {},
   "outputs": [],
   "source": [
    "def save_objects_images(photos_info_list):\n",
    "    \"\"\"\n",
    "        Функция для сохранения фотографий строящихся зданий\n",
    "        input: photos_info_list - список элементов, содержащих\n",
    "                                  информацию по фотографиям к строящемуся объекту\n",
    "    \"\"\"\n",
    "    for object_photo_info in photos_info_list:\n",
    "        try:\n",
    "            object_id = object_photo_info[0]['objId']\n",
    "            os.mkdir(str(object_id))\n",
    "            for el in object_photo_info:\n",
    "                save_image(el['objRenderPhotoUrl'], '{0}//{1}.jpg'.format(object_id, el['objRenderPhotoNm']))\n",
    "        except Exception as error:\n",
    "            print(f'Во время работы возникла ошибка - {error}')"
   ]
  },
  {
   "cell_type": "code",
   "execution_count": null,
   "metadata": {},
   "outputs": [],
   "source": [
    "objects_photos_info = res_df['photoRenderDTO'].tolist()"
   ]
  },
  {
   "cell_type": "code",
   "execution_count": null,
   "metadata": {},
   "outputs": [],
   "source": [
    "save_objects_images(objects_photos_info[:10])"
   ]
  },
  {
   "cell_type": "code",
   "execution_count": null,
   "metadata": {},
   "outputs": [],
   "source": []
  },
  {
   "cell_type": "code",
   "execution_count": null,
   "metadata": {},
   "outputs": [],
   "source": []
  }
 ],
 "metadata": {
  "kernelspec": {
   "display_name": "Python 3",
   "language": "python",
   "name": "python3"
  },
  "language_info": {
   "codemirror_mode": {
    "name": "ipython",
    "version": 3
   },
   "file_extension": ".py",
   "mimetype": "text/x-python",
   "name": "python",
   "nbconvert_exporter": "python",
   "pygments_lexer": "ipython3",
   "version": "3.8.1"
  }
 },
 "nbformat": 4,
 "nbformat_minor": 1
}
