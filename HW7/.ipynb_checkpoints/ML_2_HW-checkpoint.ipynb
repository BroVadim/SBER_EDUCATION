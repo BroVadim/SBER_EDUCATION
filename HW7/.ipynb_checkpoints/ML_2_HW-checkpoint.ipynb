{
 "cells": [
  {
   "cell_type": "code",
   "execution_count": 1,
   "metadata": {},
   "outputs": [],
   "source": [
    "from sklearn.datasets import load_boston\n",
    "import pandas as pd\n",
    "import numpy as np"
   ]
  },
  {
   "cell_type": "code",
   "execution_count": 2,
   "metadata": {},
   "outputs": [],
   "source": [
    "RANDOM_STATE = 42"
   ]
  },
  {
   "cell_type": "code",
   "execution_count": 3,
   "metadata": {},
   "outputs": [],
   "source": [
    "dataset = load_boston()\n",
    "X = pd.DataFrame(dataset.data)\n",
    "X.columns = dataset.feature_names\n",
    "y = dataset.target"
   ]
  },
  {
   "cell_type": "markdown",
   "metadata": {},
   "source": [
    "1. Разделите выборку на обучающую и тестовую в отношении 80%/20%"
   ]
  },
  {
   "cell_type": "code",
   "execution_count": 4,
   "metadata": {},
   "outputs": [],
   "source": [
    "from sklearn.model_selection import train_test_split"
   ]
  },
  {
   "cell_type": "code",
   "execution_count": 5,
   "metadata": {},
   "outputs": [],
   "source": [
    "x_train, x_test, y_train, y_test = train_test_split(\n",
    "    X\n",
    "    ,y\n",
    "    ,test_size = 0.2\n",
    "    ,random_state = RANDOM_STATE\n",
    ")"
   ]
  },
  {
   "cell_type": "markdown",
   "metadata": {},
   "source": [
    "2. Обучите стандартную регрессию, а также Ridge и  Lasso и параметрами по умолчанию и выведите их R2 на тестовой выборке"
   ]
  },
  {
   "cell_type": "code",
   "execution_count": 6,
   "metadata": {},
   "outputs": [],
   "source": [
    "from sklearn.linear_model import LinearRegression, Ridge, Lasso\n",
    "from sklearn.metrics import r2_score"
   ]
  },
  {
   "cell_type": "code",
   "execution_count": 28,
   "metadata": {},
   "outputs": [
    {
     "name": "stdout",
     "output_type": "stream",
     "text": [
      "Model\t\t| R2 SCORE\n",
      "--------------------------------------------------\n",
      "Linear regression | 0.6333247469014311\n",
      "--------------------------------------------------\n",
      "Ridge regression | 0.6316692350060941\n",
      "--------------------------------------------------\n",
      "Lasso regression | 0.5579020708855842\n",
      "--------------------------------------------------\n"
     ]
    }
   ],
   "source": [
    "models = {\n",
    "    'Linear regression': LinearRegression().fit(x_train, y_train),\n",
    "    'Ridge regression': Ridge().fit(x_train, y_train),\n",
    "    'Lasso regression': Lasso().fit(x_train, y_train)\n",
    "}\n",
    "print(f'Model\\t\\t'+'| R2 SCORE\\n'+'-----'*10)\n",
    "for key in models.keys():\n",
    "    model_predict = models[key].predict(x_test)\n",
    "    r2 = r2_score(model_predict, y_test)\n",
    "    print(f'{key} | {r2}\\n'+'-----'*10)"
   ]
  },
  {
   "cell_type": "markdown",
   "metadata": {},
   "source": [
    "3. Для Ridge и Lasso подберите коэффициент регуляризации(используйте GridSearchCV, RidgeCV, LassoCV) в пределах от $10^{-5}$ до $10^5$ (по степеням 10). Посчитайте R2 на тестовой выборке по лучшим моделям и сравните с предыдущими результатами. Напишите как изменился результат"
   ]
  },
  {
   "cell_type": "code",
   "execution_count": 17,
   "metadata": {},
   "outputs": [],
   "source": [
    "from sklearn.linear_model import RidgeCV, LassoCV"
   ]
  },
  {
   "cell_type": "code",
   "execution_count": 47,
   "metadata": {},
   "outputs": [
    {
     "name": "stdout",
     "output_type": "stream",
     "text": [
      "Model\t\t| Estimated regularization parameter | R2 SCORE\n",
      "--------------------------------------------------------------------------------\n",
      "Ridge regression |\t\t0.01\t\t| 0.6687510639420629\n",
      "---------------------------------------------------------------------------\n",
      "Lasso regression |\t\t1e-05\t\t| 0.6687598638315153\n",
      "---------------------------------------------------------------------------\n"
     ]
    }
   ],
   "source": [
    "coeffs = [10**i for i in range(-5,6)]\n",
    "models = {\n",
    "    'Ridge regression': RidgeCV(alphas = coeffs).fit(x_train, y_train),\n",
    "    'Lasso regression': LassoCV(alphas = coeffs).fit(x_train, y_train)\n",
    "}\n",
    "print(f'Model\\t\\t'+'| Estimated regularization parameter | R2 SCORE\\n'+'-----'*16)\n",
    "for key in models.keys():\n",
    "    print(f'{key} |\\t\\t{models[key].alpha_}\\t\\t| {models[key].score(x_test, y_test)}\\n'+'-----'*15)"
   ]
  },
  {
   "cell_type": "markdown",
   "metadata": {},
   "source": [
    "После подбора и применения оптимального коэффициента регуляризации в моделях для тестовой выборки увеличился коэффициент детерминации (R2)"
   ]
  },
  {
   "cell_type": "markdown",
   "metadata": {},
   "source": [
    "4. Проведите масштабирование выборки(используйте Pipeline, StandardScaler, MinMaxScaler), посчитайте R2 и сравните с предыдущими результатами. Напишите как изменился результат"
   ]
  },
  {
   "cell_type": "code",
   "execution_count": 31,
   "metadata": {},
   "outputs": [],
   "source": [
    "from sklearn.pipeline import Pipeline\n",
    "from sklearn.preprocessing import MinMaxScaler, StandardScaler"
   ]
  },
  {
   "cell_type": "code",
   "execution_count": 41,
   "metadata": {},
   "outputs": [
    {
     "name": "stdout",
     "output_type": "stream",
     "text": [
      "Model\t\t\t|\tScaler\t\t|\tR2 score\n",
      "---------------------------------------------------------------------------\n",
      "Ridge regression\t|\tStandardScaler\t|\t0.668462435964356\n",
      "---------------------------------------------------------------------------\n",
      "Ridge regression\t|\tMinMaxScaler\t|\t0.6764100365423598\n",
      "---------------------------------------------------------------------------\n",
      "Lasso regression\t|\tStandardScaler\t|\t0.6239428734251422\n",
      "---------------------------------------------------------------------------\n",
      "Lasso regression\t|\tMinMaxScaler\t|\t0.2573921442545193\n",
      "---------------------------------------------------------------------------\n"
     ]
    }
   ],
   "source": [
    "models = {\n",
    "    'Ridge regression': Ridge(),\n",
    "    'Lasso regression': Lasso()\n",
    "}\n",
    "scalers = {\n",
    "    'StandardScaler': StandardScaler(),\n",
    "    'MinMaxScaler': MinMaxScaler()\n",
    "}\n",
    "\n",
    "print('Model\\t\\t\\t|\\tScaler\\t\\t|\\tR2 score\\n'+'-----'*15)\n",
    "for model_name in models.keys():\n",
    "    for scaler_name in scalers.keys():\n",
    "        r2 = Pipeline([('Scaler',scalers[scaler_name]),('Model',models[model_name])]).fit(x_train, y_train).score(x_test, y_test)\n",
    "        print(f'{model_name}\\t|\\t{scaler_name}\\t|\\t{r2}\\n'+'-----'*15)"
   ]
  },
  {
   "cell_type": "markdown",
   "metadata": {},
   "source": [
    "## Ответ на вопрос\n",
    "Модель      | Метод масштабирования | Коэффициент детерминации (R2)\n",
    ":-------- |:-----:| -------:\n",
    "Ridge  | StandardScaler  | Уменьшается\n",
    "Ridge     | MinMaxScaler    | Увеличивается\n",
    "Lasso      | StandardScaler     | Уменьшается\n",
    "Lasso  | MinMaxScaler  | Уменьшается"
   ]
  },
  {
   "cell_type": "markdown",
   "metadata": {},
   "source": [
    "5. Подберите коэффициент регуляризации для Ridge и Lasso на масштабированных данных, посчитайте R2 и сравните с предыдущими результатами. Напишите как изменился результат"
   ]
  },
  {
   "cell_type": "code",
   "execution_count": 48,
   "metadata": {},
   "outputs": [
    {
     "name": "stdout",
     "output_type": "stream",
     "text": [
      "Model\t\t\t|\tScaler\t\t|\tR2 score\n",
      "---------------------------------------------------------------------------\n",
      "Ridge regression\t|\tStandardScaler\t|\t0.665967790505035\n",
      "---------------------------------------------------------------------------\n",
      "Ridge regression\t|\tMinMaxScaler\t|\t0.6700309977618866\n",
      "---------------------------------------------------------------------------\n",
      "Lasso regression\t|\tStandardScaler\t|\t0.668759038334717\n",
      "---------------------------------------------------------------------------\n",
      "Lasso regression\t|\tMinMaxScaler\t|\t0.6687605073677361\n",
      "---------------------------------------------------------------------------\n"
     ]
    }
   ],
   "source": [
    "coeffs = [10**i for i in range(-5,6)]\n",
    "models = {\n",
    "    'Ridge regression': RidgeCV(alphas = coeffs),\n",
    "    'Lasso regression': LassoCV(alphas = coeffs)\n",
    "}\n",
    "scalers = {\n",
    "    'StandardScaler': StandardScaler(),\n",
    "    'MinMaxScaler': MinMaxScaler()\n",
    "}\n",
    "\n",
    "print('Model\\t\\t\\t|\\tScaler\\t\\t|\\tR2 score\\n'+'-----'*15)\n",
    "for model_name in models.keys():\n",
    "    for scaler_name in scalers.keys():\n",
    "        r2 = Pipeline([('Scaler',scalers[scaler_name]),('Model',models[model_name])]).fit(x_train, y_train).score(x_test, y_test)\n",
    "        print(f'{model_name}\\t|\\t{scaler_name}\\t|\\t{r2}\\n'+'-----'*15)"
   ]
  },
  {
   "cell_type": "markdown",
   "metadata": {},
   "source": [
    "## Ответ на вопрос\n",
    "Модель      | Метод масштабирования | Коэффициент детерминации (R2)\n",
    ":-------- |:-----:| -------:\n",
    "Ridge  | StandardScaler  | Уменьшается\n",
    "Ridge     | MinMaxScaler    | Уменьшается\n",
    "Lasso      | StandardScaler     | Увеличивается\n",
    "Lasso  | MinMaxScaler  | Увеличивается\n"
   ]
  },
  {
   "cell_type": "markdown",
   "metadata": {},
   "source": [
    "6. Добавьте попарные произведения признаков и их квадраты (используйте PolynomialFeatures) на масштабированных признаках, посчитайте R2 и сравните с предыдущими результатами. Напишите как изменился результат"
   ]
  },
  {
   "cell_type": "code",
   "execution_count": 54,
   "metadata": {},
   "outputs": [],
   "source": [
    "from sklearn.preprocessing import PolynomialFeatures\n",
    "import warnings\n",
    "warnings.filterwarnings(\"ignore\")"
   ]
  },
  {
   "cell_type": "code",
   "execution_count": 55,
   "metadata": {},
   "outputs": [
    {
     "name": "stdout",
     "output_type": "stream",
     "text": [
      "Model\t\t\t|\tScaler\t\t|\tR2 score\n",
      "---------------------------------------------------------------------------\n",
      "Ridge regression\t|\tStandardScaler\t|\t0.8471791435736773\n",
      "---------------------------------------------------------------------------\n",
      "Ridge regression\t|\tMinMaxScaler\t|\t0.8458569996008638\n",
      "---------------------------------------------------------------------------\n",
      "Lasso regression\t|\tStandardScaler\t|\t0.8346796785922626\n",
      "---------------------------------------------------------------------------\n",
      "Lasso regression\t|\tMinMaxScaler\t|\t0.825979075061163\n",
      "---------------------------------------------------------------------------\n"
     ]
    }
   ],
   "source": [
    "poly_x_train = PolynomialFeatures(2).fit_transform(x_train)\n",
    "poly_x_test = PolynomialFeatures(2).fit_transform(x_test)\n",
    "\n",
    "models = {\n",
    "          'Ridge regression': RidgeCV(alphas=coeffs),\n",
    "          'Lasso regression': LassoCV(alphas=coeffs)\n",
    "}\n",
    "scalers = {\n",
    "    'StandardScaler' : StandardScaler(),\n",
    "    'MinMaxScaler' : MinMaxScaler()\n",
    "}\n",
    "\n",
    "print('Model\\t\\t\\t|\\tScaler\\t\\t|\\tR2 score\\n'+'-----'*15)\n",
    "for model_name in models:\n",
    "    for scaler_name in scalers:\n",
    "        r2 = Pipeline([('Scaler', scalers[scaler_name]),('Model', models[model_name])]).fit(poly_x_train, y_train).score(poly_x_test, y_test)\n",
    "        print(f'{model_name}\\t|\\t{scaler_name}\\t|\\t{r2}\\n'+'-----'*15)"
   ]
  },
  {
   "cell_type": "markdown",
   "metadata": {},
   "source": [
    "## Ответ на вопрос\n",
    "Модель      | Метод масштабирования | Коэффициент детерминации (R2)\n",
    ":-------- |:-----:| -------:\n",
    "Ridge  | StandardScaler  | Увеличивается\n",
    "Ridge     | MinMaxScaler    | Увеличивается\n",
    "Lasso      | StandardScaler     | Увеличивается\n",
    "Lasso  | MinMaxScaler  | Увеличивается"
   ]
  },
  {
   "cell_type": "markdown",
   "metadata": {},
   "source": [
    "7. Подберите наилучшую модель (используйте Pipeline, GridSearchSCV) подбирая тип регуляризации (L1,L2), коэффициент регуляризации, метод масштабирования и степень полинома в PolynomialFeatures. Выведите итоговые параметры и результат R2. Напишите как изменился R2 по сравнению с предыдущими экспериментами"
   ]
  },
  {
   "cell_type": "code",
   "execution_count": 62,
   "metadata": {},
   "outputs": [],
   "source": [
    "from sklearn.model_selection import GridSearchCV"
   ]
  },
  {
   "cell_type": "code",
   "execution_count": 108,
   "metadata": {},
   "outputs": [],
   "source": [
    "def search_best_model(polynom_degree, scaler, model, coeff):\n",
    "    \n",
    "    poly_x_train = PolynomialFeatures(polynom_degree).fit_transform(x_train)\n",
    "    poly_x_test = PolynomialFeatures(polynom_degree).fit_transform(x_test)\n",
    "    \n",
    "    pipeline =  Pipeline([('Scaler',scaler),('Model',model)])\n",
    "    parameters = {'Model__alpha': [coeff]}\n",
    "    \n",
    "    grid = GridSearchCV(pipeline, parameters,n_jobs=-1, cv=6)\n",
    "    r2 = grid.fit(poly_x_train, y_train).score(poly_x_test, y_test)\n",
    "    return r2"
   ]
  },
  {
   "cell_type": "code",
   "execution_count": 109,
   "metadata": {},
   "outputs": [],
   "source": [
    "polynom_degrees = [i for i in range(1,5)]\n",
    "\n",
    "models = {\n",
    "    'Ridge regression': Ridge(),\n",
    "    'Lasso regression': Lasso()\n",
    "}\n",
    "\n",
    "scalers = {\n",
    "    'StandardScaler': StandardScaler(),\n",
    "    'MinMaxScaler': MinMaxScaler()\n",
    "}\n",
    "\n",
    "coeffs = [10**i for i in range(-5,6)]\n",
    "\n",
    "res_dict = {'Model':[],'Scaler':[], 'Polynom_deegre':[],'Regularization_coeff':[], 'R2':[] }\n",
    "for model_name in models:\n",
    "    for scaler_name in scalers:\n",
    "        for polynom_degree in polynom_degrees:\n",
    "            for coeff in coeffs:\n",
    "                r2 = search_best_model(polynom_degree, scalers[scaler_name], models[model_name], coeff)\n",
    "                res_dict['Model'].append(model_name)\n",
    "                res_dict['Scaler'].append(scaler_name)\n",
    "                res_dict['Polynom_deegre'].append(polynom_degree)\n",
    "                res_dict['Regularization_coeff'].append(coeff)\n",
    "                res_dict['R2'].append(r2)"
   ]
  },
  {
   "cell_type": "code",
   "execution_count": 110,
   "metadata": {},
   "outputs": [
    {
     "data": {
      "text/html": [
       "<div>\n",
       "<style scoped>\n",
       "    .dataframe tbody tr th:only-of-type {\n",
       "        vertical-align: middle;\n",
       "    }\n",
       "\n",
       "    .dataframe tbody tr th {\n",
       "        vertical-align: top;\n",
       "    }\n",
       "\n",
       "    .dataframe thead th {\n",
       "        text-align: right;\n",
       "    }\n",
       "</style>\n",
       "<table border=\"1\" class=\"dataframe\">\n",
       "  <thead>\n",
       "    <tr style=\"text-align: right;\">\n",
       "      <th></th>\n",
       "      <th>Model</th>\n",
       "      <th>Scaler</th>\n",
       "      <th>Polynom_deegre</th>\n",
       "      <th>Regularization_coeff</th>\n",
       "      <th>R2</th>\n",
       "    </tr>\n",
       "  </thead>\n",
       "  <tbody>\n",
       "    <tr>\n",
       "      <th>116</th>\n",
       "      <td>Lasso regression</td>\n",
       "      <td>StandardScaler</td>\n",
       "      <td>3</td>\n",
       "      <td>10.00000</td>\n",
       "      <td>-0.023341</td>\n",
       "    </tr>\n",
       "    <tr>\n",
       "      <th>70</th>\n",
       "      <td>Ridge regression</td>\n",
       "      <td>MinMaxScaler</td>\n",
       "      <td>3</td>\n",
       "      <td>0.10000</td>\n",
       "      <td>0.865830</td>\n",
       "    </tr>\n",
       "    <tr>\n",
       "      <th>160</th>\n",
       "      <td>Lasso regression</td>\n",
       "      <td>MinMaxScaler</td>\n",
       "      <td>3</td>\n",
       "      <td>10.00000</td>\n",
       "      <td>-0.023341</td>\n",
       "    </tr>\n",
       "    <tr>\n",
       "      <th>113</th>\n",
       "      <td>Lasso regression</td>\n",
       "      <td>StandardScaler</td>\n",
       "      <td>3</td>\n",
       "      <td>0.01000</td>\n",
       "      <td>0.860191</td>\n",
       "    </tr>\n",
       "    <tr>\n",
       "      <th>147</th>\n",
       "      <td>Lasso regression</td>\n",
       "      <td>MinMaxScaler</td>\n",
       "      <td>2</td>\n",
       "      <td>0.10000</td>\n",
       "      <td>0.715990</td>\n",
       "    </tr>\n",
       "    <tr>\n",
       "      <th>79</th>\n",
       "      <td>Ridge regression</td>\n",
       "      <td>MinMaxScaler</td>\n",
       "      <td>4</td>\n",
       "      <td>0.00100</td>\n",
       "      <td>0.748847</td>\n",
       "    </tr>\n",
       "    <tr>\n",
       "      <th>72</th>\n",
       "      <td>Ridge regression</td>\n",
       "      <td>MinMaxScaler</td>\n",
       "      <td>3</td>\n",
       "      <td>10.00000</td>\n",
       "      <td>0.792480</td>\n",
       "    </tr>\n",
       "    <tr>\n",
       "      <th>149</th>\n",
       "      <td>Lasso regression</td>\n",
       "      <td>MinMaxScaler</td>\n",
       "      <td>2</td>\n",
       "      <td>10.00000</td>\n",
       "      <td>-0.023341</td>\n",
       "    </tr>\n",
       "    <tr>\n",
       "      <th>89</th>\n",
       "      <td>Lasso regression</td>\n",
       "      <td>StandardScaler</td>\n",
       "      <td>1</td>\n",
       "      <td>0.00010</td>\n",
       "      <td>0.668755</td>\n",
       "    </tr>\n",
       "    <tr>\n",
       "      <th>82</th>\n",
       "      <td>Ridge regression</td>\n",
       "      <td>MinMaxScaler</td>\n",
       "      <td>4</td>\n",
       "      <td>1.00000</td>\n",
       "      <td>0.868482</td>\n",
       "    </tr>\n",
       "    <tr>\n",
       "      <th>174</th>\n",
       "      <td>Lasso regression</td>\n",
       "      <td>MinMaxScaler</td>\n",
       "      <td>4</td>\n",
       "      <td>10000.00000</td>\n",
       "      <td>-0.023341</td>\n",
       "    </tr>\n",
       "    <tr>\n",
       "      <th>33</th>\n",
       "      <td>Ridge regression</td>\n",
       "      <td>StandardScaler</td>\n",
       "      <td>4</td>\n",
       "      <td>0.00001</td>\n",
       "      <td>-4.975419</td>\n",
       "    </tr>\n",
       "    <tr>\n",
       "      <th>52</th>\n",
       "      <td>Ridge regression</td>\n",
       "      <td>MinMaxScaler</td>\n",
       "      <td>1</td>\n",
       "      <td>1000.00000</td>\n",
       "      <td>0.087623</td>\n",
       "    </tr>\n",
       "    <tr>\n",
       "      <th>5</th>\n",
       "      <td>Ridge regression</td>\n",
       "      <td>StandardScaler</td>\n",
       "      <td>1</td>\n",
       "      <td>1.00000</td>\n",
       "      <td>0.668462</td>\n",
       "    </tr>\n",
       "    <tr>\n",
       "      <th>135</th>\n",
       "      <td>Lasso regression</td>\n",
       "      <td>MinMaxScaler</td>\n",
       "      <td>1</td>\n",
       "      <td>0.01000</td>\n",
       "      <td>0.667699</td>\n",
       "    </tr>\n",
       "  </tbody>\n",
       "</table>\n",
       "</div>"
      ],
      "text/plain": [
       "                Model          Scaler  Polynom_deegre  Regularization_coeff  \\\n",
       "116  Lasso regression  StandardScaler               3              10.00000   \n",
       "70   Ridge regression    MinMaxScaler               3               0.10000   \n",
       "160  Lasso regression    MinMaxScaler               3              10.00000   \n",
       "113  Lasso regression  StandardScaler               3               0.01000   \n",
       "147  Lasso regression    MinMaxScaler               2               0.10000   \n",
       "79   Ridge regression    MinMaxScaler               4               0.00100   \n",
       "72   Ridge regression    MinMaxScaler               3              10.00000   \n",
       "149  Lasso regression    MinMaxScaler               2              10.00000   \n",
       "89   Lasso regression  StandardScaler               1               0.00010   \n",
       "82   Ridge regression    MinMaxScaler               4               1.00000   \n",
       "174  Lasso regression    MinMaxScaler               4           10000.00000   \n",
       "33   Ridge regression  StandardScaler               4               0.00001   \n",
       "52   Ridge regression    MinMaxScaler               1            1000.00000   \n",
       "5    Ridge regression  StandardScaler               1               1.00000   \n",
       "135  Lasso regression    MinMaxScaler               1               0.01000   \n",
       "\n",
       "           R2  \n",
       "116 -0.023341  \n",
       "70   0.865830  \n",
       "160 -0.023341  \n",
       "113  0.860191  \n",
       "147  0.715990  \n",
       "79   0.748847  \n",
       "72   0.792480  \n",
       "149 -0.023341  \n",
       "89   0.668755  \n",
       "82   0.868482  \n",
       "174 -0.023341  \n",
       "33  -4.975419  \n",
       "52   0.087623  \n",
       "5    0.668462  \n",
       "135  0.667699  "
      ]
     },
     "execution_count": 110,
     "metadata": {},
     "output_type": "execute_result"
    }
   ],
   "source": [
    "df = pd.DataFrame(res_dict)\n",
    "df.sample(15)"
   ]
  },
  {
   "cell_type": "code",
   "execution_count": 111,
   "metadata": {},
   "outputs": [
    {
     "data": {
      "text/html": [
       "<div>\n",
       "<style scoped>\n",
       "    .dataframe tbody tr th:only-of-type {\n",
       "        vertical-align: middle;\n",
       "    }\n",
       "\n",
       "    .dataframe tbody tr th {\n",
       "        vertical-align: top;\n",
       "    }\n",
       "\n",
       "    .dataframe thead th {\n",
       "        text-align: right;\n",
       "    }\n",
       "</style>\n",
       "<table border=\"1\" class=\"dataframe\">\n",
       "  <thead>\n",
       "    <tr style=\"text-align: right;\">\n",
       "      <th></th>\n",
       "      <th>Model</th>\n",
       "      <th>Scaler</th>\n",
       "      <th>Polynom_deegre</th>\n",
       "      <th>Regularization_coeff</th>\n",
       "      <th>R2</th>\n",
       "    </tr>\n",
       "  </thead>\n",
       "  <tbody>\n",
       "    <tr>\n",
       "      <th>167</th>\n",
       "      <td>Lasso regression</td>\n",
       "      <td>MinMaxScaler</td>\n",
       "      <td>4</td>\n",
       "      <td>0.001</td>\n",
       "      <td>0.876281</td>\n",
       "    </tr>\n",
       "    <tr>\n",
       "      <th>81</th>\n",
       "      <td>Ridge regression</td>\n",
       "      <td>MinMaxScaler</td>\n",
       "      <td>4</td>\n",
       "      <td>0.100</td>\n",
       "      <td>0.874223</td>\n",
       "    </tr>\n",
       "  </tbody>\n",
       "</table>\n",
       "</div>"
      ],
      "text/plain": [
       "                Model        Scaler  Polynom_deegre  Regularization_coeff  \\\n",
       "167  Lasso regression  MinMaxScaler               4                 0.001   \n",
       "81   Ridge regression  MinMaxScaler               4                 0.100   \n",
       "\n",
       "           R2  \n",
       "167  0.876281  \n",
       "81   0.874223  "
      ]
     },
     "execution_count": 111,
     "metadata": {},
     "output_type": "execute_result"
    }
   ],
   "source": [
    "res_df = df.sort_values('R2', ascending=False).drop_duplicates(['Model'])\n",
    "res_df.head()"
   ]
  },
  {
   "cell_type": "markdown",
   "metadata": {},
   "source": [
    "http://archive.ics.uci.edu/ml/datasets/Adult"
   ]
  },
  {
   "cell_type": "code",
   "execution_count": null,
   "metadata": {},
   "outputs": [],
   "source": [
    "link = 'https://raw.githubusercontent.com/jbrownlee/Datasets/master/adult-all.csv'\n",
    "data = pd.read_csv(link, header=None)"
   ]
  },
  {
   "cell_type": "code",
   "execution_count": null,
   "metadata": {},
   "outputs": [],
   "source": [
    "data.head()"
   ]
  },
  {
   "cell_type": "markdown",
   "metadata": {},
   "source": [
    "8. Разделите выборку на признаки и целевую переменную(колонка со зачениями {<=50K,>50K}). Замените целевую переменную на числовые значения."
   ]
  },
  {
   "cell_type": "code",
   "execution_count": null,
   "metadata": {},
   "outputs": [],
   "source": []
  },
  {
   "cell_type": "markdown",
   "metadata": {},
   "source": [
    "9. Выясните, присутствуют ли в данных пропуски. Заполните их самыми частыми значениями (испольуйте SimpleImputer)"
   ]
  },
  {
   "cell_type": "code",
   "execution_count": null,
   "metadata": {},
   "outputs": [],
   "source": []
  },
  {
   "cell_type": "markdown",
   "metadata": {},
   "source": [
    "10. Выберите колонки с числовыми и категориальными переменными."
   ]
  },
  {
   "cell_type": "code",
   "execution_count": null,
   "metadata": {},
   "outputs": [],
   "source": []
  },
  {
   "cell_type": "markdown",
   "metadata": {},
   "source": [
    "11. Создайте пайплайн по обработке колонок(используйте OneHotEncoder,MinMaxScaler)."
   ]
  },
  {
   "cell_type": "code",
   "execution_count": null,
   "metadata": {},
   "outputs": [],
   "source": []
  },
  {
   "cell_type": "markdown",
   "metadata": {},
   "source": [
    "12. Посчитайте метрики accuracy и f1_score на предсказании только самого частого класса в целевой переменной."
   ]
  },
  {
   "cell_type": "code",
   "execution_count": null,
   "metadata": {},
   "outputs": [],
   "source": []
  },
  {
   "cell_type": "markdown",
   "metadata": {},
   "source": [
    "13. Посчитайте cross_val_score по алгоритмам LogisticRegression, SVC, LinearSVC по метрикам accuracy и f1_score.\n",
    "Напишите удалось ли превзойти предыдущий результат."
   ]
  },
  {
   "cell_type": "code",
   "execution_count": null,
   "metadata": {},
   "outputs": [],
   "source": []
  },
  {
   "cell_type": "markdown",
   "metadata": {},
   "source": [
    "14. Можно заметить что в данных присутствуют значения '?', замените их самыми частыми значениями (испольуйте SimpleImputer)"
   ]
  },
  {
   "cell_type": "code",
   "execution_count": null,
   "metadata": {},
   "outputs": [],
   "source": []
  },
  {
   "cell_type": "markdown",
   "metadata": {},
   "source": [
    "15. Посчитайте cross_val_score на новых данных. Напишите удалось ли улучшить результат."
   ]
  },
  {
   "cell_type": "code",
   "execution_count": null,
   "metadata": {},
   "outputs": [],
   "source": []
  },
  {
   "cell_type": "markdown",
   "metadata": {},
   "source": [
    "16. Посчитайте cross_val_score, если просто удалить значения '?'. Напишите как изменился результат"
   ]
  },
  {
   "cell_type": "code",
   "execution_count": null,
   "metadata": {},
   "outputs": [],
   "source": []
  },
  {
   "cell_type": "markdown",
   "metadata": {},
   "source": [
    " 17. Посчитайте cross_val_score для RandomForestClassifier,GradientBoostingClassifier. Напишите как изменился результат и какой вывод можно из этого сделать."
   ]
  },
  {
   "cell_type": "code",
   "execution_count": null,
   "metadata": {},
   "outputs": [],
   "source": []
  },
  {
   "cell_type": "markdown",
   "metadata": {},
   "source": [
    "18. Подберите наилучшую модель, подбирая методы обработки колонок - масштабирование признаков, кодирование признаков и заполнение пропусков. Параметры алгоритмов оставьте по умолчанию. Выведите итоговые параметры и результат accuracy и f1_score."
   ]
  },
  {
   "cell_type": "code",
   "execution_count": null,
   "metadata": {},
   "outputs": [],
   "source": []
  }
 ],
 "metadata": {
  "kernelspec": {
   "display_name": "Python 3",
   "language": "python",
   "name": "python3"
  },
  "language_info": {
   "codemirror_mode": {
    "name": "ipython",
    "version": 3
   },
   "file_extension": ".py",
   "mimetype": "text/x-python",
   "name": "python",
   "nbconvert_exporter": "python",
   "pygments_lexer": "ipython3",
   "version": "3.8.1"
  }
 },
 "nbformat": 4,
 "nbformat_minor": 2
}
