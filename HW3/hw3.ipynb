{
 "cells": [
  {
   "cell_type": "markdown",
   "metadata": {
    "id": "pDrecLU-4QjS"
   },
   "source": [
    "# Практика\n",
    "Используемые библиотеки"
   ]
  },
  {
   "cell_type": "code",
   "execution_count": 1,
   "metadata": {},
   "outputs": [
    {
     "name": "stderr",
     "output_type": "stream",
     "text": [
      "C:\\Users\\darmorezov\\AppData\\Local\\Programs\\Python\\Python38-32\\lib\\site-packages\\requests\\__init__.py:89: RequestsDependencyWarning: urllib3 (1.26.8) or chardet (3.0.4) doesn't match a supported version!\n",
      "  warnings.warn(\"urllib3 ({}) or chardet ({}) doesn't match a supported \"\n"
     ]
    }
   ],
   "source": [
    "import pandas as pd\n",
    "import numpy as np\n",
    "import requests\n",
    "import io\n",
    "import re\n",
    "from tqdm import tqdm\n",
    "import random\n",
    "from collections import Counter\n",
    "from matplotlib import pyplot as plt"
   ]
  },
  {
   "cell_type": "markdown",
   "metadata": {},
   "source": [
    "## Загрузка DataFrame\n",
    "### Задача 1\n",
    "На основании данных портала \"Открытые данные России\" о результатах Химического анализа родника в Нескучном саду https://data.gov.ru/opendata/7708660670-rodnik-neskuchniy-sad\n",
    "средствами библиотеки __Pandas__ сформируйте поле выводов по каждому анализирумомому параметру.\n",
    "Например, по показателю _pH_ получен результат _8.4 единицы pH_ при нормативе от _6 до 9 единиц pH_. Т.о. по данному показателю результат анализа в норме.\n",
    "Для решения задачи необходимо программно \"прочитать и понять\" значение столбца \"Норматив\" и выделенное численное значение сравнить с нормативом согласно логике норматива. Например, __6 >= pH >= 9__.\n",
    "В итоговом DataFrame столбец \"Показатель\" сделайте индексным.\n",
    "\n",
    "\n",
    "Загзрузка DataFrame выполняется непосредственно c сайта \"Открытые данные России\" https://data.gov.ru/opendata/7708660670-rodnik-neskuchniy-sad/data-20160608T1215-structure-20160608T1215.csv (см. код ниже).\n"
   ]
  },
  {
   "cell_type": "markdown",
   "metadata": {},
   "source": [
    "## Решение"
   ]
  },
  {
   "cell_type": "code",
   "execution_count": null,
   "metadata": {},
   "outputs": [],
   "source": [
    "url =\"https://data.gov.ru/opendata/7708660670-rodnik-neskuchniy-sad/data-20160608T1215-structure-20160608T1215.csv\"\n",
    "s = requests.get(url).content\n",
    "df = pd.read_csv(io.StringIO(s.decode('UTF8')))"
   ]
  },
  {
   "cell_type": "code",
   "execution_count": null,
   "metadata": {},
   "outputs": [],
   "source": [
    "df.sample(n=5)"
   ]
  },
  {
   "cell_type": "code",
   "execution_count": null,
   "metadata": {},
   "outputs": [],
   "source": [
    "def Conclusion_worker(analiz_res,norma):\n",
    "    conclusion = 'Не определено'\n",
    "    norma = re.sub(',','.',norma)\n",
    "    if re.search('в\\s*пределах\\s*.+', norma):\n",
    "        try:\n",
    "            left_limit, right_limit = re.findall('\\d+\\.?\\d*', norma)[0:2]\n",
    "            conclusion = 'Ниже нормы' if float(analiz_res) < float(left_limit) else 'Выше нормы' if float(analiz_res) > float(right_limit) else 'В пределах нормы'\n",
    "            return conclusion\n",
    "        except Exception as error:\n",
    "            print(f'В ходе работы произошла ошибка {error}')\n",
    "            return 'Результат не определен'\n",
    "    else:\n",
    "        try:\n",
    "            limit = re.findall('\\d+\\.?\\d*',norma)[0]\n",
    "            conclusion = 'Выше нормы' if float(analiz_res) > float(limit) else 'В пределах нормы'\n",
    "            return conclusion\n",
    "        except Exception as error:\n",
    "            print(f'В ходе работы произошла ошибка {error}')\n",
    "            return 'Результат не определен'"
   ]
  },
  {
   "cell_type": "code",
   "execution_count": null,
   "metadata": {},
   "outputs": [],
   "source": [
    "df['Вывод'] = df.apply(lambda x: Conclusion_worker(x['Результат анализа'], x['Норматив']), axis=1)"
   ]
  },
  {
   "cell_type": "code",
   "execution_count": null,
   "metadata": {},
   "outputs": [],
   "source": [
    "df.set_index('Показатель')"
   ]
  },
  {
   "cell_type": "code",
   "execution_count": null,
   "metadata": {},
   "outputs": [],
   "source": [
    "df"
   ]
  },
  {
   "cell_type": "markdown",
   "metadata": {
    "id": "gUvTNDlMaV-a"
   },
   "source": [
    "## Теория вероятности. События\n",
    "\n",
    "Требуется сгенерировать необходимые выборки и произвести по ним расчеты"
   ]
  },
  {
   "cell_type": "markdown",
   "metadata": {
    "id": "t0XOMos2Tl0e"
   },
   "source": [
    "### Задача 2\n",
    "В ящике 5 апельсинов и 4 яблока. Наудачу выбираются 3 фрукта. Какова вероятность, что все три фрукта – апельсины?\n",
    "\n",
    "В интернете полученный аналитически ответ 0.119. Подтверждается ли он эксперементально?\n"
   ]
  },
  {
   "cell_type": "markdown",
   "metadata": {},
   "source": [
    "## Решение"
   ]
  },
  {
   "cell_type": "code",
   "execution_count": null,
   "metadata": {},
   "outputs": [],
   "source": [
    "fruits_box = (0,0,0,0,0,1,1,1,1)\n",
    "oranges_number_list = []\n",
    "for i in tqdm(range(0,1000000)):\n",
    "    t = sum(random.sample(fruits_box, k=3))\n",
    "    oranges_number_list.append(t)\n",
    "cnt = dict(Counter(oranges_number_list))"
   ]
  },
  {
   "cell_type": "code",
   "execution_count": null,
   "metadata": {},
   "outputs": [],
   "source": [
    "cnt"
   ]
  },
  {
   "cell_type": "code",
   "execution_count": null,
   "metadata": {},
   "outputs": [],
   "source": [
    "explode = (0.1, 0, 0.15, 0)\n",
    "fig, ax = plt.subplots()\n",
    "ax.pie(cnt.values(), labels=cnt.keys(), autopct='%1.1f%%', shadow=True, explode=explode, wedgeprops={'lw':1, 'ls':'--','edgecolor':\"k\"}, rotatelabels=True)\n",
    "ax.axis(\"equal\")"
   ]
  },
  {
   "cell_type": "markdown",
   "metadata": {
    "id": "g7A7QlvGTnwZ"
   },
   "source": [
    "### Задача 3\n",
    "Мастер, имея 10 деталей, из которых 3 – нестандартных, проверяет детали одну за другой, пока ему не попадется стандартная. Какова вероятность, что он проверит ровно две детали?\n",
    "\n",
    "\n",
    "В интернете полученный аналитически ответ 7/30 или 0.23333. Подтверждается ли он эксперементально?"
   ]
  },
  {
   "cell_type": "markdown",
   "metadata": {},
   "source": [
    "## Решение"
   ]
  },
  {
   "cell_type": "code",
   "execution_count": null,
   "metadata": {},
   "outputs": [],
   "source": [
    "details = (0,0,0,0,0,0,0,1,1,1)\n",
    "count = 0\n",
    "retries_count = 1000000\n",
    "for i in tqdm(range(0,retries_count)):\n",
    "    if random.sample(details, k=2) == [0,1]:\n",
    "        count += 1\n",
    "print(count/retries_count)"
   ]
  }
 ],
 "metadata": {
  "celltoolbar": "Raw Cell Format",
  "colab": {
   "collapsed_sections": [],
   "name": "Практика к занятию 11.ipynb",
   "provenance": []
  },
  "kernelspec": {
   "display_name": "Python 3",
   "language": "python",
   "name": "python3"
  },
  "language_info": {
   "codemirror_mode": {
    "name": "ipython",
    "version": 3
   },
   "file_extension": ".py",
   "mimetype": "text/x-python",
   "name": "python",
   "nbconvert_exporter": "python",
   "pygments_lexer": "ipython3",
   "version": "3.8.1"
  }
 },
 "nbformat": 4,
 "nbformat_minor": 1
}
