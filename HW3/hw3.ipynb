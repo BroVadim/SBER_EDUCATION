{
 "cells": [
  {
   "cell_type": "markdown",
   "metadata": {
    "id": "pDrecLU-4QjS"
   },
   "source": [
    "# Практика\n",
    "Используемые библиотеки"
   ]
  },
  {
   "cell_type": "code",
   "execution_count": 1,
   "metadata": {},
   "outputs": [
    {
     "name": "stderr",
     "output_type": "stream",
     "text": [
      "C:\\Users\\darmorezov\\AppData\\Local\\Programs\\Python\\Python38-32\\lib\\site-packages\\requests\\__init__.py:89: RequestsDependencyWarning: urllib3 (1.26.8) or chardet (3.0.4) doesn't match a supported version!\n",
      "  warnings.warn(\"urllib3 ({}) or chardet ({}) doesn't match a supported \"\n"
     ]
    }
   ],
   "source": [
    "import pandas as pd\n",
    "import numpy as np\n",
    "import requests\n",
    "import io\n",
    "import re\n",
    "from tqdm import tqdm\n",
    "import random\n",
    "from collections import Counter\n",
    "from matplotlib import pyplot as plt"
   ]
  },
  {
   "cell_type": "markdown",
   "metadata": {},
   "source": [
    "## Загрузка DataFrame\n",
    "### Задача 1\n",
    "На основании данных портала \"Открытые данные России\" о результатах Химического анализа родника в Нескучном саду https://data.gov.ru/opendata/7708660670-rodnik-neskuchniy-sad\n",
    "средствами библиотеки __Pandas__ сформируйте поле выводов по каждому анализирумомому параметру.\n",
    "Например, по показателю _pH_ получен результат _8.4 единицы pH_ при нормативе от _6 до 9 единиц pH_. Т.о. по данному показателю результат анализа в норме.\n",
    "Для решения задачи необходимо программно \"прочитать и понять\" значение столбца \"Норматив\" и выделенное численное значение сравнить с нормативом согласно логике норматива. Например, __6 >= pH >= 9__.\n",
    "В итоговом DataFrame столбец \"Показатель\" сделайте индексным.\n",
    "\n",
    "\n",
    "Загзрузка DataFrame выполняется непосредственно c сайта \"Открытые данные России\" https://data.gov.ru/opendata/7708660670-rodnik-neskuchniy-sad/data-20160608T1215-structure-20160608T1215.csv (см. код ниже).\n"
   ]
  },
  {
   "cell_type": "markdown",
   "metadata": {},
   "source": [
    "## Решение"
   ]
  },
  {
   "cell_type": "code",
   "execution_count": 2,
   "metadata": {},
   "outputs": [],
   "source": [
    "url =\"https://data.gov.ru/opendata/7708660670-rodnik-neskuchniy-sad/data-20160608T1215-structure-20160608T1215.csv\"\n",
    "s = requests.get(url).content\n",
    "df = pd.read_csv(io.StringIO(s.decode('UTF8')))"
   ]
  },
  {
   "cell_type": "code",
   "execution_count": 3,
   "metadata": {},
   "outputs": [
    {
     "data": {
      "text/html": [
       "<div>\n",
       "<style scoped>\n",
       "    .dataframe tbody tr th:only-of-type {\n",
       "        vertical-align: middle;\n",
       "    }\n",
       "\n",
       "    .dataframe tbody tr th {\n",
       "        vertical-align: top;\n",
       "    }\n",
       "\n",
       "    .dataframe thead th {\n",
       "        text-align: right;\n",
       "    }\n",
       "</style>\n",
       "<table border=\"1\" class=\"dataframe\">\n",
       "  <thead>\n",
       "    <tr style=\"text-align: right;\">\n",
       "      <th></th>\n",
       "      <th>Показатель</th>\n",
       "      <th>Единица измерений</th>\n",
       "      <th>Результат анализа</th>\n",
       "      <th>Норматив</th>\n",
       "    </tr>\n",
       "  </thead>\n",
       "  <tbody>\n",
       "    <tr>\n",
       "      <th>5</th>\n",
       "      <td>Нитриты (по NO2)</td>\n",
       "      <td>мг/дм3</td>\n",
       "      <td>0.017</td>\n",
       "      <td>не более 3,3</td>\n",
       "    </tr>\n",
       "    <tr>\n",
       "      <th>8</th>\n",
       "      <td>Хлориды (Cl)</td>\n",
       "      <td>мг/дм3</td>\n",
       "      <td>200</td>\n",
       "      <td>не более 350</td>\n",
       "    </tr>\n",
       "    <tr>\n",
       "      <th>6</th>\n",
       "      <td>Нитраты (по NO3)</td>\n",
       "      <td>мг/дм3</td>\n",
       "      <td>24</td>\n",
       "      <td>не более 45</td>\n",
       "    </tr>\n",
       "    <tr>\n",
       "      <th>12</th>\n",
       "      <td>Общая минерализация (сухой остаток)</td>\n",
       "      <td>мг/дм3</td>\n",
       "      <td>590</td>\n",
       "      <td>не более 1000</td>\n",
       "    </tr>\n",
       "    <tr>\n",
       "      <th>10</th>\n",
       "      <td>Железо (включая хлорное железо) по Fe</td>\n",
       "      <td>мг/дм3</td>\n",
       "      <td>0.019</td>\n",
       "      <td>не более 0,3</td>\n",
       "    </tr>\n",
       "  </tbody>\n",
       "</table>\n",
       "</div>"
      ],
      "text/plain": [
       "                               Показатель Единица измерений Результат анализа  \\\n",
       "5                        Нитриты (по NO2)            мг/дм3             0.017   \n",
       "8                            Хлориды (Cl)            мг/дм3               200   \n",
       "6                        Нитраты (по NO3)            мг/дм3                24   \n",
       "12    Общая минерализация (сухой остаток)            мг/дм3               590   \n",
       "10  Железо (включая хлорное железо) по Fe            мг/дм3             0.019   \n",
       "\n",
       "         Норматив  \n",
       "5    не более 3,3  \n",
       "8    не более 350  \n",
       "6     не более 45  \n",
       "12  не более 1000  \n",
       "10   не более 0,3  "
      ]
     },
     "execution_count": 3,
     "metadata": {},
     "output_type": "execute_result"
    }
   ],
   "source": [
    "df.sample(n=5)"
   ]
  },
  {
   "cell_type": "code",
   "execution_count": 4,
   "metadata": {},
   "outputs": [],
   "source": [
    "def Conclusion_worker(analiz_res,norma):\n",
    "    conclusion = 'Не определено'\n",
    "    norma = re.sub(',','.',norma)\n",
    "    if re.search('в\\s*пределах\\s*.+', norma):\n",
    "        try:\n",
    "            left_limit, right_limit = re.findall('\\d+\\.?\\d*', norma)[0:2]\n",
    "            conclusion = 'Ниже нормы' if float(analiz_res) < float(left_limit) else 'Выше нормы' if float(analiz_res) > float(right_limit) else 'В пределах нормы'\n",
    "            return conclusion\n",
    "        except Exception as error:\n",
    "            print(f'В ходе работы произошла ошибка {error}')\n",
    "            return 'Результат не определен'\n",
    "    else:\n",
    "        try:\n",
    "            limit = re.findall('\\d+\\.?\\d*',norma)[0]\n",
    "            conclusion = 'Выше нормы' if float(analiz_res) > float(limit) else 'В пределах нормы'\n",
    "            return conclusion\n",
    "        except Exception as error:\n",
    "            print(f'В ходе работы произошла ошибка {error}')\n",
    "            return 'Результат не определен'"
   ]
  },
  {
   "cell_type": "code",
   "execution_count": 5,
   "metadata": {},
   "outputs": [
    {
     "name": "stdout",
     "output_type": "stream",
     "text": [
      "В ходе работы произошла ошибка could not convert string to float: 'б/цвета'\n"
     ]
    }
   ],
   "source": [
    "df['Вывод'] = df.apply(lambda x: Conclusion_worker(x['Результат анализа'], x['Норматив']), axis=1)"
   ]
  },
  {
   "cell_type": "code",
   "execution_count": 6,
   "metadata": {},
   "outputs": [
    {
     "data": {
      "text/html": [
       "<div>\n",
       "<style scoped>\n",
       "    .dataframe tbody tr th:only-of-type {\n",
       "        vertical-align: middle;\n",
       "    }\n",
       "\n",
       "    .dataframe tbody tr th {\n",
       "        vertical-align: top;\n",
       "    }\n",
       "\n",
       "    .dataframe thead th {\n",
       "        text-align: right;\n",
       "    }\n",
       "</style>\n",
       "<table border=\"1\" class=\"dataframe\">\n",
       "  <thead>\n",
       "    <tr style=\"text-align: right;\">\n",
       "      <th></th>\n",
       "      <th>Единица измерений</th>\n",
       "      <th>Результат анализа</th>\n",
       "      <th>Норматив</th>\n",
       "      <th>Вывод</th>\n",
       "    </tr>\n",
       "    <tr>\n",
       "      <th>Показатель</th>\n",
       "      <th></th>\n",
       "      <th></th>\n",
       "      <th></th>\n",
       "      <th></th>\n",
       "    </tr>\n",
       "  </thead>\n",
       "  <tbody>\n",
       "    <tr>\n",
       "      <th>pH</th>\n",
       "      <td>единицы pH</td>\n",
       "      <td>8.4</td>\n",
       "      <td>в пределах 6-9</td>\n",
       "      <td>В пределах нормы</td>\n",
       "    </tr>\n",
       "    <tr>\n",
       "      <th>Запах</th>\n",
       "      <td>баллы</td>\n",
       "      <td>1</td>\n",
       "      <td>не более 2-3</td>\n",
       "      <td>В пределах нормы</td>\n",
       "    </tr>\n",
       "    <tr>\n",
       "      <th>Цветность</th>\n",
       "      <td>градусы</td>\n",
       "      <td>б/цвета</td>\n",
       "      <td>не более 30</td>\n",
       "      <td>Результат не определен</td>\n",
       "    </tr>\n",
       "    <tr>\n",
       "      <th>Жёсткость</th>\n",
       "      <td>мг-эквл/дм3</td>\n",
       "      <td>9.199999999999999</td>\n",
       "      <td>в пределах 7-10</td>\n",
       "      <td>В пределах нормы</td>\n",
       "    </tr>\n",
       "    <tr>\n",
       "      <th>Аммиак и аммоний-ион (по азоту)</th>\n",
       "      <td>мг/дм3</td>\n",
       "      <td>0.42</td>\n",
       "      <td>не более 1,5</td>\n",
       "      <td>В пределах нормы</td>\n",
       "    </tr>\n",
       "    <tr>\n",
       "      <th>Нитриты (по NO2)</th>\n",
       "      <td>мг/дм3</td>\n",
       "      <td>0.017</td>\n",
       "      <td>не более 3,3</td>\n",
       "      <td>В пределах нормы</td>\n",
       "    </tr>\n",
       "    <tr>\n",
       "      <th>Нитраты (по NO3)</th>\n",
       "      <td>мг/дм3</td>\n",
       "      <td>24</td>\n",
       "      <td>не более 45</td>\n",
       "      <td>В пределах нормы</td>\n",
       "    </tr>\n",
       "    <tr>\n",
       "      <th>Фосфаты (P)</th>\n",
       "      <td>мг/дм3</td>\n",
       "      <td>0.36</td>\n",
       "      <td>не более 3,5</td>\n",
       "      <td>В пределах нормы</td>\n",
       "    </tr>\n",
       "    <tr>\n",
       "      <th>Хлориды (Cl)</th>\n",
       "      <td>мг/дм3</td>\n",
       "      <td>200</td>\n",
       "      <td>не более 350</td>\n",
       "      <td>В пределах нормы</td>\n",
       "    </tr>\n",
       "    <tr>\n",
       "      <th>Сульфаты (SO4)</th>\n",
       "      <td>мг/дм3</td>\n",
       "      <td>189.5</td>\n",
       "      <td>не более 500</td>\n",
       "      <td>В пределах нормы</td>\n",
       "    </tr>\n",
       "    <tr>\n",
       "      <th>Железо (включая хлорное железо) по Fe</th>\n",
       "      <td>мг/дм3</td>\n",
       "      <td>0.019</td>\n",
       "      <td>не более 0,3</td>\n",
       "      <td>В пределах нормы</td>\n",
       "    </tr>\n",
       "    <tr>\n",
       "      <th>Нефть</th>\n",
       "      <td>мг/дм3</td>\n",
       "      <td>0.55</td>\n",
       "      <td>не более 0,3</td>\n",
       "      <td>Выше нормы</td>\n",
       "    </tr>\n",
       "    <tr>\n",
       "      <th>Общая минерализация (сухой остаток)</th>\n",
       "      <td>мг/дм3</td>\n",
       "      <td>590</td>\n",
       "      <td>не более 1000</td>\n",
       "      <td>В пределах нормы</td>\n",
       "    </tr>\n",
       "    <tr>\n",
       "      <th>Окисляемость перманганатная</th>\n",
       "      <td>мг/дм3</td>\n",
       "      <td>2</td>\n",
       "      <td>не более 0,5</td>\n",
       "      <td>Выше нормы</td>\n",
       "    </tr>\n",
       "  </tbody>\n",
       "</table>\n",
       "</div>"
      ],
      "text/plain": [
       "                                      Единица измерений  Результат анализа  \\\n",
       "Показатель                                                                   \n",
       "pH                                           единицы pH                8.4   \n",
       "Запах                                             баллы                  1   \n",
       "Цветность                                       градусы            б/цвета   \n",
       "Жёсткость                                   мг-эквл/дм3  9.199999999999999   \n",
       "Аммиак и аммоний-ион (по азоту)                  мг/дм3               0.42   \n",
       "Нитриты (по NO2)                                 мг/дм3              0.017   \n",
       "Нитраты (по NO3)                                 мг/дм3                 24   \n",
       "Фосфаты (P)                                      мг/дм3               0.36   \n",
       "Хлориды (Cl)                                     мг/дм3                200   \n",
       "Сульфаты (SO4)                                   мг/дм3              189.5   \n",
       "Железо (включая хлорное железо) по Fe            мг/дм3              0.019   \n",
       "Нефть                                            мг/дм3               0.55   \n",
       "Общая минерализация (сухой остаток)              мг/дм3                590   \n",
       "Окисляемость перманганатная                      мг/дм3                  2   \n",
       "\n",
       "                                              Норматив                   Вывод  \n",
       "Показатель                                                                      \n",
       "pH                                      в пределах 6-9        В пределах нормы  \n",
       "Запах                                     не более 2-3        В пределах нормы  \n",
       "Цветность                                  не более 30  Результат не определен  \n",
       "Жёсткость                              в пределах 7-10        В пределах нормы  \n",
       "Аммиак и аммоний-ион (по азоту)           не более 1,5        В пределах нормы  \n",
       "Нитриты (по NO2)                          не более 3,3        В пределах нормы  \n",
       "Нитраты (по NO3)                           не более 45        В пределах нормы  \n",
       "Фосфаты (P)                               не более 3,5        В пределах нормы  \n",
       "Хлориды (Cl)                              не более 350        В пределах нормы  \n",
       "Сульфаты (SO4)                            не более 500        В пределах нормы  \n",
       "Железо (включая хлорное железо) по Fe     не более 0,3        В пределах нормы  \n",
       "Нефть                                     не более 0,3              Выше нормы  \n",
       "Общая минерализация (сухой остаток)      не более 1000        В пределах нормы  \n",
       "Окисляемость перманганатная               не более 0,5              Выше нормы  "
      ]
     },
     "execution_count": 6,
     "metadata": {},
     "output_type": "execute_result"
    }
   ],
   "source": [
    "df.set_index('Показатель')"
   ]
  },
  {
   "cell_type": "markdown",
   "metadata": {
    "id": "gUvTNDlMaV-a"
   },
   "source": [
    "## Теория вероятности. События\n",
    "\n",
    "Требуется сгенерировать необходимые выборки и произвести по ним расчеты"
   ]
  },
  {
   "cell_type": "markdown",
   "metadata": {
    "id": "t0XOMos2Tl0e"
   },
   "source": [
    "### Задача 2\n",
    "В ящике 5 апельсинов и 4 яблока. Наудачу выбираются 3 фрукта. Какова вероятность, что все три фрукта – апельсины?\n",
    "\n",
    "В интернете полученный аналитически ответ 0.119. Подтверждается ли он эксперементально?\n"
   ]
  },
  {
   "cell_type": "markdown",
   "metadata": {},
   "source": [
    "## Решение"
   ]
  },
  {
   "cell_type": "code",
   "execution_count": 8,
   "metadata": {},
   "outputs": [
    {
     "name": "stderr",
     "output_type": "stream",
     "text": [
      "100%|████████████████████████████████████████████████████████████████████| 1000000/1000000 [00:06<00:00, 147141.72it/s]\n"
     ]
    }
   ],
   "source": [
    "fruits_box = (0,0,0,0,0,1,1,1,1)\n",
    "oranges_number_list = []\n",
    "for i in tqdm(range(0,1000000)):\n",
    "    t = sum(random.sample(fruits_box, k=3))\n",
    "    oranges_number_list.append(t)\n",
    "cnt = dict(Counter(oranges_number_list))"
   ]
  },
  {
   "cell_type": "code",
   "execution_count": 9,
   "metadata": {},
   "outputs": [
    {
     "data": {
      "text/plain": [
       "{1: 476238, 0: 118551, 2: 357419, 3: 47792}"
      ]
     },
     "execution_count": 9,
     "metadata": {},
     "output_type": "execute_result"
    }
   ],
   "source": [
    "cnt"
   ]
  },
  {
   "cell_type": "code",
   "execution_count": 10,
   "metadata": {},
   "outputs": [
    {
     "data": {
      "text/plain": [
       "(-1.1081375292068611,\n",
       " 1.1082007669451117,\n",
       " -1.2792457344853982,\n",
       " 1.2297951107823608)"
      ]
     },
     "execution_count": 10,
     "metadata": {},
     "output_type": "execute_result"
    },
    {
     "data": {
      "image/png": "[encoded data removed]",
      "text/plain": [
       "<Figure size 432x288 with 1 Axes>"
      ]
     },
     "metadata": {},
     "output_type": "display_data"
    }
   ],
   "source": [
    "explode = (0.1, 0, 0.15, 0)\n",
    "fig, ax = plt.subplots()\n",
    "ax.pie(cnt.values(), labels=cnt.keys(), autopct='%1.1f%%', shadow=True, explode=explode, wedgeprops={'lw':1, 'ls':'--','edgecolor':\"k\"}, rotatelabels=True)\n",
    "ax.axis(\"equal\")"
   ]
  },
  {
   "cell_type": "markdown",
   "metadata": {
    "id": "g7A7QlvGTnwZ"
   },
   "source": [
    "### Задача 3\n",
    "Мастер, имея 10 деталей, из которых 3 – нестандартных, проверяет детали одну за другой, пока ему не попадется стандартная. Какова вероятность, что он проверит ровно две детали?\n",
    "\n",
    "\n",
    "В интернете полученный аналитически ответ 7/30 или 0.23333. Подтверждается ли он эксперементально?"
   ]
  },
  {
   "cell_type": "markdown",
   "metadata": {},
   "source": [
    "## Решение"
   ]
  },
  {
   "cell_type": "code",
   "execution_count": 11,
   "metadata": {},
   "outputs": [
    {
     "name": "stderr",
     "output_type": "stream",
     "text": [
      "100%|████████████████████████████████████████████████████████████████████| 1000000/1000000 [00:05<00:00, 171167.96it/s]"
     ]
    },
    {
     "name": "stdout",
     "output_type": "stream",
     "text": [
      "0.23316\n"
     ]
    },
    {
     "name": "stderr",
     "output_type": "stream",
     "text": [
      "\n"
     ]
    }
   ],
   "source": [
    "details = (0,0,0,0,0,0,0,1,1,1)\n",
    "count = 0\n",
    "retries_count = 1000000\n",
    "for i in tqdm(range(0,retries_count)):\n",
    "    if random.sample(details, k=2) == [0,1]:\n",
    "        count += 1\n",
    "print(count/retries_count)"
   ]
  },
  {
   "cell_type": "code",
   "execution_count": null,
   "metadata": {},
   "outputs": [],
   "source": []
  }
 ],
 "metadata": {
  "celltoolbar": "Raw Cell Format",
  "colab": {
   "collapsed_sections": [],
   "name": "Практика к занятию 11.ipynb",
   "provenance": []
  },
  "kernelspec": {
   "display_name": "Python 3",
   "language": "python",
   "name": "python3"
  },
  "language_info": {
   "codemirror_mode": {
    "name": "ipython",
    "version": 3
   },
   "file_extension": ".py",
   "mimetype": "text/x-python",
   "name": "python",
   "nbconvert_exporter": "python",
   "pygments_lexer": "ipython3",
   "version": "3.8.1"
  }
 },
 "nbformat": 4,
 "nbformat_minor": 1
}
